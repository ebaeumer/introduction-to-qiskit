{
 "cells": [
  {
   "cell_type": "markdown",
   "metadata": {},
   "source": [
    "# Introduction to Qiskit\n",
    "Welcome to Qiskit! Before starting with the exercises, please run the cell below by pressing 'shift' + 'return'."
   ]
  },
  {
   "cell_type": "code",
   "execution_count": null,
   "metadata": {},
   "outputs": [],
   "source": [
    "import sys\n",
    "!{sys.executable} -m pip install pylatexenc\n",
    "\n",
    "import numpy as np\n",
    "import math\n",
    "import matplotlib.pyplot as plt\n",
    "\n",
    "from qiskit import Aer\n",
    "from qiskit import QuantumRegister, ClassicalRegister, QuantumCircuit, execute\n",
    "from qiskit.visualization import plot_bloch_vector, plot_histogram\n",
    "\n",
    "from __base import run_and_check, intro_sol1, intro_sol2, intro_sol3, intro_sol4, intro_sol5, intro_sol6, intro_sol7, intro_sol8, question_and_check, answers1, app, algos, combine_alg_and_appl\n",
    "\n",
    "def bloch_vec(qc):\n",
    "    backend = Aer.get_backend('statevector_simulator')\n",
    "    ket = execute(qc, backend).result().get_statevector()\n",
    "    if ket[0] !=0:\n",
    "        theta = 2*np.arctan(np.abs(ket[1]/ket[0]))\n",
    "        phi = np.angle(ket[1]/ket[0])\n",
    "    else:\n",
    "        theta = np.pi\n",
    "        phi = 0\n",
    "    bloch_vector = np.round([np.sin(theta)*np.cos(phi), np.sin(theta)*np.sin(phi), np.cos(theta)], 5)\n",
    "    return bloch_vector"
   ]
  },
  {
   "cell_type": "markdown",
   "metadata": {},
   "source": [
    "## I. Multiple Choice questions\n",
    "### 1.) How many coefficients do you need to characterize a state on 10 qubits?"
   ]
  },
  {
   "cell_type": "code",
   "execution_count": null,
   "metadata": {},
   "outputs": [],
   "source": [
    "question_and_check(answers1)"
   ]
  },
  {
   "cell_type": "markdown",
   "metadata": {},
   "source": [
    "### 2.) Match the following algorithms with their corresponding application."
   ]
  },
  {
   "cell_type": "code",
   "execution_count": null,
   "metadata": {},
   "outputs": [],
   "source": [
    "combine_alg_and_appl(app, algos)"
   ]
  },
  {
   "cell_type": "markdown",
   "metadata": {},
   "source": [
    "## II. Basic Rotations on One Qubit and Measurements on the Bloch Sphere\n",
    "\n",
    "Before getting into complicated circuits on many qubits, let us start by looking at a single qubit. Read this chapter: https://community.qiskit.org/textbook/ch-states/pauli-matrices-bloch-sphere.html to learn the basics about Pauli operators and the Bloch sphere and this one: https://community.qiskit.org/textbook/ch-gates/quantum-gates.html to become also familiar with the Hadamard gate and the $S$ and $S^\\dagger$ gates. \n",
    "\n",
    "By default, states in qiskit start in $|0\\rangle$, which corresponds to \"arrow up\" on the Bloch sphere. Play around with the gates $X$, $Y$, $Z$, $H$, $S$ and $S^\\dagger$ to get a feeling for the different rotations. To do so, insert combinations of the following code lines in the lines indicated in the program:\n",
    "\n",
    "    qc.x(0)    # rotation by Pi around the x-axis\n",
    "    qc.y(0)    # rotation by Pi around the y-axis\n",
    "    qc.z(0)    # rotation by Pi around the z-axis\n",
    "    qc.s(0)    # rotation by Pi/2 around the z-axis\n",
    "    qc.sdg(0)  # rotation by -Pi/2 around the z-axis\n",
    "    qc.h(0)    # rotation by Pi around an axis located halfway between x and z\n",
    "\n",
    "Try to reach the given state in the Bloch sphere in each of the following exercises. (Press Shift + Enter to run a code cell)\n",
    "### 1.) Let us start easy by performing a bit flip. The goal is to reach the state $|1\\rangle$. <img src=\"state1.png\" width=\"200\"> "
   ]
  },
  {
   "cell_type": "code",
   "execution_count": null,
   "metadata": {},
   "outputs": [],
   "source": [
    "def intro_ex1():\n",
    "    qc = QuantumCircuit(1)\n",
    "    #\n",
    "    #\n",
    "    # FILL YOUR CODE IN HERE\n",
    "    #\n",
    "    #\n",
    "    bloch_vector = bloch_vec(qc)\n",
    "    plot_bloch_vector(bloch_vector)\n",
    "    return bloch_vector\n",
    "\n",
    "run_and_check(intro_ex1(), intro_sol1())\n",
    "plot_bloch_vector(intro_ex1())"
   ]
  },
  {
   "cell_type": "markdown",
   "metadata": {},
   "source": [
    "### 2.) Next, we would like to create superposition. The goal is to reach the state $|+\\rangle = \\frac{1}{\\sqrt{2}}\\left(|0\\rangle + |1\\rangle\\right)$. <img src=\"plus_state.png\" width=\"200\"> "
   ]
  },
  {
   "cell_type": "code",
   "execution_count": null,
   "metadata": {},
   "outputs": [],
   "source": [
    "def intro_ex2():\n",
    "    qc = QuantumCircuit(1)\n",
    "    #\n",
    "    #\n",
    "    # FILL YOUR CODE IN HERE\n",
    "    #\n",
    "    #\n",
    "    bloch_vector = bloch_vec(qc)\n",
    "    plot_bloch_vector(bloch_vector)\n",
    "    return bloch_vector\n",
    "\n",
    "run_and_check(intro_ex2(), intro_sol2())\n",
    "plot_bloch_vector(intro_ex2())"
   ]
  },
  {
   "cell_type": "markdown",
   "metadata": {},
   "source": [
    "### 3.) Let's combine those two. The goal is to reach the state $|-\\rangle = \\frac{1}{\\sqrt{2}}\\left(|0\\rangle - |1\\rangle\\right)$. <img src=\"minus_state.png\" width=\"200\">  Can you even come up with different ways?"
   ]
  },
  {
   "cell_type": "code",
   "execution_count": null,
   "metadata": {},
   "outputs": [],
   "source": [
    "def intro_ex3():\n",
    "    qc = QuantumCircuit(1)\n",
    "    #\n",
    "    #\n",
    "    # FILL YOUR CODE IN HERE\n",
    "    #\n",
    "    #\n",
    "    bloch_vector = bloch_vec(qc)\n",
    "    plot_bloch_vector(bloch_vector)\n",
    "    return bloch_vector\n",
    "\n",
    "run_and_check(intro_ex3(), intro_sol3())\n",
    "plot_bloch_vector(intro_ex3())"
   ]
  },
  {
   "cell_type": "markdown",
   "metadata": {},
   "source": [
    "### 4.) Finally, we move on to the complex numbers. The goal is to reach the state $|\\circlearrowleft\\rangle = \\frac{1}{\\sqrt{2}}\\left(|0\\rangle - i|1\\rangle\\right)$. <img src=\"arrow_left_state.png\" width=\"200\"> "
   ]
  },
  {
   "cell_type": "code",
   "execution_count": null,
   "metadata": {},
   "outputs": [],
   "source": [
    "def intro_ex4():\n",
    "    qc = QuantumCircuit(1)\n",
    "    #\n",
    "    #\n",
    "    # FILL YOUR CODE IN HERE\n",
    "    #\n",
    "    #\n",
    "    bloch_vector = bloch_vec(qc)\n",
    "    plot_bloch_vector(bloch_vector)\n",
    "    return bloch_vector\n",
    "\n",
    "run_and_check(intro_ex4(), intro_sol4())\n",
    "plot_bloch_vector(intro_ex4())"
   ]
  },
  {
   "cell_type": "markdown",
   "metadata": {},
   "source": [
    "## III. Quantum Circuits Using Multi-Qubit Gates\n",
    "Great job! Now that you've understood the single-qubit gates, let us look at gates on multiple qubits. Check out this chapter if you would like to refresh the theory: https://community.qiskit.org/textbook/ch-gates/basic-circuit-identities.html. The basic gates on two and three qubits are given by\n",
    "\n",
    "    qc.cx(c,t)       # controlled-X (= CNOT) gate with control qubit c and target qubit t\n",
    "    qc.cz(c,t)       # controlled-Z gate with control qubit c and target qubit t\n",
    "    qc.ccx(c1,c2,t)  # controlled-controlled-X (= Toffoli) gate with control qubits c1 and c2 and target qubit t\n",
    "    qc.swap(a,b)     # SWAP gate that swaps the states of qubit a and qubit b\n",
    "\n",
    "We start with an easy gate on two qubits, the controlled-NOT (also CNOT) gate . As it has no effect applied on two qubits in state $|0\\rangle$, we apply a Hadamard gate before to bring the control qubit in superposition. This way, we can create entanglement. The resulting state is one of the so-called Bell states. \n",
    "### 1.) Construct the Bell state $|\\Phi^+\\rangle = \\frac{1}{\\sqrt{2}}\\left(|00\\rangle + |11\\rangle\\right)$."
   ]
  },
  {
   "cell_type": "code",
   "execution_count": null,
   "metadata": {},
   "outputs": [],
   "source": [
    "def intro_ex5():\n",
    "    qc = QuantumCircuit(2,2) # this time, we not only want two qubits, but also two classical bits for the measurement\n",
    "    #\n",
    "    #\n",
    "    # FILL YOUR CODE IN HERE\n",
    "    #\n",
    "    #\n",
    "    qc.measure(0, 0) # we perform a measurement on qubit q_0 and store the information on the classical bit c_0\n",
    "    qc.measure(1, 1) # we perform a measurement on qubit q_1 and store the information on the classical bit c_1\n",
    "    print(qc.draw()) # we draw the circuit\n",
    "    backend = Aer.get_backend('qasm_simulator') # we choose the simulator as our backend\n",
    "    counts = execute(qc, backend, shots = 1000).result().get_counts() # we run the simulation and get the counts\n",
    "    plt.show()\n",
    "    return counts\n",
    "\n",
    "counts = intro_ex5()\n",
    "run_and_check(counts, intro_sol5())\n",
    "plot_histogram(counts) # let us plot a histogram to see the possible outcomes and corresponding probabilities"
   ]
  },
  {
   "cell_type": "markdown",
   "metadata": {},
   "source": [
    "As you can see in the histogram, the only possible outputs are \"00\" and \"11\", so the states of the two qubits are always perfectly correlated. Next, we would like to have to perfectly anti-correlated qubits. \n",
    "### 2.) Construct the Bell state $|\\Psi^-\\rangle = \\frac{1}{\\sqrt{2}}\\left(|01\\rangle - |10\\rangle\\right)$."
   ]
  },
  {
   "cell_type": "code",
   "execution_count": null,
   "metadata": {},
   "outputs": [],
   "source": [
    "def intro_ex6():\n",
    "    qc = QuantumCircuit(2)\n",
    "    #\n",
    "    #\n",
    "    # FILL YOUR CODE IN HERE\n",
    "    #\n",
    "    #\n",
    "    print(qc.draw())\n",
    "    backend = Aer.get_backend('statevector_simulator') # we chooe the statevector simulator as our backend\n",
    "    vec = execute(qc, backend).result().get_statevector() # we calculate the statevector rather than measurement outcomes\n",
    "    print(vec)\n",
    "    return vec\n",
    "\n",
    "run_and_check(intro_ex6(), intro_sol6())"
   ]
  },
  {
   "cell_type": "markdown",
   "metadata": {},
   "source": [
    "This time, the only possible outcomes are \"01\" and \"10\", which are given by the second and third entry of the state vector.\n",
    "\n",
    "### 3.) You are given the quantum circuit described in the function below. Swap the state of the first and the second wire, perform a measurement and return the counts."
   ]
  },
  {
   "cell_type": "code",
   "execution_count": null,
   "metadata": {},
   "outputs": [],
   "source": [
    "def intro_ex7():\n",
    "    qc = QuantumCircuit(2,2)\n",
    "    qc.rx(np.pi/3,0)\n",
    "    qc.x(1)\n",
    "    print(qc.draw())\n",
    "    #\n",
    "    #\n",
    "    # FILL YOUR CODE IN HERE\n",
    "    #\n",
    "    #\n",
    "\n",
    "counts = intro_ex7()\n",
    "run_and_check(counts, intro_sol7())\n",
    "plot_histogram(counts)"
   ]
  },
  {
   "cell_type": "markdown",
   "metadata": {},
   "source": [
    "### 4.) Write a function from scratch that creates a quantum circuit on 3 qubits, creates the GHZ state, $|GHZ\\rangle = \\frac{1}{\\sqrt{2}} \\left(|000\\rangle + |111 \\rangle \\right)$, and returns state vector."
   ]
  },
  {
   "cell_type": "code",
   "execution_count": null,
   "metadata": {},
   "outputs": [],
   "source": [
    "def intro_ex8():\n",
    "    #\n",
    "    #\n",
    "    # FILL YOUR CODE IN HERE\n",
    "    #\n",
    "    #\n",
    "    \n",
    "run_and_check(intro_ex8(), intro_sol8())"
   ]
  },
  {
   "cell_type": "markdown",
   "metadata": {},
   "source": [
    "Congratulations! If you reached all ten points, you're definitely ready for your first quantum hackathon!"
   ]
  }
 ],
 "metadata": {
  "kernelspec": {
   "display_name": "Python 3",
   "language": "python",
   "name": "python3"
  },
  "language_info": {
   "codemirror_mode": {
    "name": "ipython",
    "version": 3
   },
   "file_extension": ".py",
   "mimetype": "text/x-python",
   "name": "python",
   "nbconvert_exporter": "python",
   "pygments_lexer": "ipython3",
   "version": "3.7.5"
  }
 },
 "nbformat": 4,
 "nbformat_minor": 2
}
